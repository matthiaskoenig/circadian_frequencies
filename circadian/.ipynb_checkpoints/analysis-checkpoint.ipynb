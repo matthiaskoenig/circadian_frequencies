{
 "cells": [
  {
   "cell_type": "markdown",
   "metadata": {},
   "source": [
    "# Circadian frequencies\n",
    "What are the frequency distributions for genes which have 2 circadian inputs."
   ]
  },
  {
   "cell_type": "code",
   "execution_count": 1,
   "metadata": {
    "collapsed": true
   },
   "outputs": [],
   "source": [
    "from __future__ import absolute_import, print_function, division\n",
    "from six import iteritems\n",
    "import numpy as np\n",
    "import scipy as sp\n",
    "import pandas as pd\n",
    "from matplotlib import pyplot as plt"
   ]
  },
  {
   "cell_type": "markdown",
   "metadata": {},
   "source": [
    "# simple additive effect\n",
    "* the two circadian transcription factors work additive\n",
    "* they have approximately the same effect (strength, amplitude)\n",
    "* oscillators are assumed perfect sinus waves\n",
    "* both have a period pf ~24h\n",
    "* data is sampled with 1h intervals\n",
    "* duration of timecourse is 48h\n",
    "* we assume Coefficents of variations of 10% in amplitude and phase\n",
    "* amplitude and phase are normal distributed"
   ]
  },
  {
   "cell_type": "code",
   "execution_count": null,
   "metadata": {
    "collapsed": true
   },
   "outputs": [],
   "source": []
  },
  {
   "cell_type": "code",
   "execution_count": null,
   "metadata": {
    "collapsed": true
   },
   "outputs": [],
   "source": [
    "\n",
    "    def tf_data(z0_mu=1, z0_cv=0.1, phi_mu=0, phi_cv=0.1, sampling=1, duration=48, n_samples=100, f0=24):\n",
    "    \"\"\" Create data for single transcription factor.\n",
    "    \n",
    "    param\n",
    "    \"\"\"\n",
    "    mu, sigma = 0, 0.1 # mean and standard deviation\n",
    "    z0_sigma = z0_cv * z0_mu\n",
    "    z0 = np.random.normal(z0_mu, z0_sigma, n_samples)\n",
    "    phi_sigma = phi_cv * phi_mu\n",
    "    phi = np.random.normal(phi_mu, phi_sigma, n_samples)\n",
    "    \n",
    "    # every column is one timepoint, every row one sample\n",
    "    n_points = 1.0*duration/sampling\n",
    "    data = np.zeros(n_samples, n_points)\n",
    "    for k in range(n_samples):\n",
    "        data[k, :] = z0\n",
    "    "
   ]
  },
  {
   "cell_type": "markdown",
   "metadata": {},
   "source": [
    "# What is the resulting frequency\n",
    "Simple fast fourier transformation (FFT) to find the max frequency"
   ]
  },
  {
   "cell_type": "code",
   "execution_count": null,
   "metadata": {
    "collapsed": true
   },
   "outputs": [],
   "source": []
  }
 ],
 "metadata": {
  "kernelspec": {
   "display_name": "Python 2",
   "language": "python",
   "name": "python2"
  },
  "language_info": {
   "codemirror_mode": {
    "name": "ipython",
    "version": 2
   },
   "file_extension": ".py",
   "mimetype": "text/x-python",
   "name": "python",
   "nbconvert_exporter": "python",
   "pygments_lexer": "ipython2",
   "version": "2.7.12"
  }
 },
 "nbformat": 4,
 "nbformat_minor": 2
}
